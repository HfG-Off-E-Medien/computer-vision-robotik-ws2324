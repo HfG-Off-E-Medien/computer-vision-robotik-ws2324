{
 "cells": [
  {
   "cell_type": "code",
   "execution_count": 12,
   "metadata": {},
   "outputs": [],
   "source": [
    "import serial\n",
    "import time"
   ]
  },
  {
   "cell_type": "code",
   "execution_count": 13,
   "metadata": {},
   "outputs": [],
   "source": [
    "arduino = serial.Serial('/dev/cu.usbmodem21401', 9600)   # create serial object named arduino"
   ]
  },
  {
   "cell_type": "code",
   "execution_count": 14,
   "metadata": {},
   "outputs": [
    {
     "name": "stdout",
     "output_type": "stream",
     "text": [
      "100\n",
      "120\n",
      "0\n",
      "180\n",
      "90\n",
      "100\n"
     ]
    }
   ],
   "source": [
    "while True:\n",
    "    command = input(\"Write a value between 0 and 180: \")  # write H oder L\n",
    "    arduino.write(command.encode())  # write position to serial port\n",
    "    time.sleep(0.5)\n",
    "    reachedPos = arduino.readline().decode().strip()  # read serial port for arduino echo\n",
    "    print(reachedPos)"
   ]
  }
 ],
 "metadata": {
  "kernelspec": {
   "display_name": "cv_kurs",
   "language": "python",
   "name": "python3"
  },
  "language_info": {
   "codemirror_mode": {
    "name": "ipython",
    "version": 3
   },
   "file_extension": ".py",
   "mimetype": "text/x-python",
   "name": "python",
   "nbconvert_exporter": "python",
   "pygments_lexer": "ipython3",
   "version": "3.12.0"
  }
 },
 "nbformat": 4,
 "nbformat_minor": 2
}
